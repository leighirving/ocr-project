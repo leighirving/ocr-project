{
 "cells": [
  {
   "cell_type": "code",
   "execution_count": 32,
   "metadata": {},
   "outputs": [],
   "source": [
    "#Importing all the required libraries\n",
    "import pandas as pd\n",
    "import numpy as np\n",
    "import matplotlib.pyplot as plt\n",
    "import seaborn as sns"
   ]
  },
  {
   "cell_type": "markdown",
   "metadata": {},
   "source": [
    "## Numbers"
   ]
  },
  {
   "cell_type": "code",
   "execution_count": 2,
   "metadata": {},
   "outputs": [],
   "source": [
    "from sklearn.datasets import fetch_openml\n",
    "numbers = fetch_openml('mnist_784', version=1, cache=True)"
   ]
  },
  {
   "cell_type": "code",
   "execution_count": 3,
   "metadata": {},
   "outputs": [],
   "source": [
    "X_numbers, y_numbers = numbers[\"data\"], numbers[\"target\"]"
   ]
  },
  {
   "cell_type": "code",
   "execution_count": 4,
   "metadata": {},
   "outputs": [
    {
     "data": {
      "text/plain": [
       "array([[0., 0., 0., ..., 0., 0., 0.],\n",
       "       [0., 0., 0., ..., 0., 0., 0.],\n",
       "       [0., 0., 0., ..., 0., 0., 0.],\n",
       "       ...,\n",
       "       [0., 0., 0., ..., 0., 0., 0.],\n",
       "       [0., 0., 0., ..., 0., 0., 0.],\n",
       "       [0., 0., 0., ..., 0., 0., 0.]])"
      ]
     },
     "execution_count": 4,
     "metadata": {},
     "output_type": "execute_result"
    }
   ],
   "source": [
    "X_numbers"
   ]
  },
  {
   "cell_type": "code",
   "execution_count": 5,
   "metadata": {},
   "outputs": [
    {
     "data": {
      "text/plain": [
       "(70000, 784)"
      ]
     },
     "execution_count": 5,
     "metadata": {},
     "output_type": "execute_result"
    }
   ],
   "source": [
    "X_numbers.shape"
   ]
  },
  {
   "cell_type": "code",
   "execution_count": 6,
   "metadata": {},
   "outputs": [
    {
     "name": "stdout",
     "output_type": "stream",
     "text": [
      "<class 'str'>\n"
     ]
    }
   ],
   "source": [
    "print(type(y_numbers[0]))"
   ]
  },
  {
   "cell_type": "code",
   "execution_count": 7,
   "metadata": {
    "scrolled": false
   },
   "outputs": [
    {
     "data": {
      "image/png": "[encoded data removed]",
      "text/plain": [
       "<Figure size 864x720 with 16 Axes>"
      ]
     },
     "metadata": {
      "needs_background": "light"
     },
     "output_type": "display_data"
    }
   ],
   "source": [
    "plt.figure(figsize = (12,10))\n",
    "row, column = 4, 4\n",
    "\n",
    "for i in range(16): \n",
    "    plt.subplot(column, row, i+1)\n",
    "    some_digit = X_numbers[69000+i]\n",
    "    some_digit_image = some_digit.reshape(28,28)\n",
    "    plt.imshow(some_digit_image)\n",
    "plt.show()"
   ]
  },
  {
   "cell_type": "markdown",
   "metadata": {},
   "source": [
    "## Letters"
   ]
  },
  {
   "cell_type": "code",
   "execution_count": 8,
   "metadata": {},
   "outputs": [],
   "source": [
    "letters = pd.read_csv(\"a_z_handwritten_data.csv\")"
   ]
  },
  {
   "cell_type": "code",
   "execution_count": 9,
   "metadata": {},
   "outputs": [],
   "source": [
    "letters.rename(columns={'0':'label'}, inplace=True)"
   ]
  },
  {
   "cell_type": "code",
   "execution_count": 10,
   "metadata": {},
   "outputs": [
    {
     "data": {
      "text/html": [
       "<div>\n",
       "<style scoped>\n",
       "    .dataframe tbody tr th:only-of-type {\n",
       "        vertical-align: middle;\n",
       "    }\n",
       "\n",
       "    .dataframe tbody tr th {\n",
       "        vertical-align: top;\n",
       "    }\n",
       "\n",
       "    .dataframe thead th {\n",
       "        text-align: right;\n",
       "    }\n",
       "</style>\n",
       "<table border=\"1\" class=\"dataframe\">\n",
       "  <thead>\n",
       "    <tr style=\"text-align: right;\">\n",
       "      <th></th>\n",
       "      <th>label</th>\n",
       "      <th>0.1</th>\n",
       "      <th>0.2</th>\n",
       "      <th>0.3</th>\n",
       "      <th>0.4</th>\n",
       "      <th>0.5</th>\n",
       "      <th>0.6</th>\n",
       "      <th>0.7</th>\n",
       "      <th>0.8</th>\n",
       "      <th>0.9</th>\n",
       "      <th>...</th>\n",
       "      <th>0.639</th>\n",
       "      <th>0.640</th>\n",
       "      <th>0.641</th>\n",
       "      <th>0.642</th>\n",
       "      <th>0.643</th>\n",
       "      <th>0.644</th>\n",
       "      <th>0.645</th>\n",
       "      <th>0.646</th>\n",
       "      <th>0.647</th>\n",
       "      <th>0.648</th>\n",
       "    </tr>\n",
       "  </thead>\n",
       "  <tbody>\n",
       "    <tr>\n",
       "      <th>0</th>\n",
       "      <td>0</td>\n",
       "      <td>0</td>\n",
       "      <td>0</td>\n",
       "      <td>0</td>\n",
       "      <td>0</td>\n",
       "      <td>0</td>\n",
       "      <td>0</td>\n",
       "      <td>0</td>\n",
       "      <td>0</td>\n",
       "      <td>0</td>\n",
       "      <td>...</td>\n",
       "      <td>0</td>\n",
       "      <td>0</td>\n",
       "      <td>0</td>\n",
       "      <td>0</td>\n",
       "      <td>0</td>\n",
       "      <td>0</td>\n",
       "      <td>0</td>\n",
       "      <td>0</td>\n",
       "      <td>0</td>\n",
       "      <td>0</td>\n",
       "    </tr>\n",
       "    <tr>\n",
       "      <th>1</th>\n",
       "      <td>0</td>\n",
       "      <td>0</td>\n",
       "      <td>0</td>\n",
       "      <td>0</td>\n",
       "      <td>0</td>\n",
       "      <td>0</td>\n",
       "      <td>0</td>\n",
       "      <td>0</td>\n",
       "      <td>0</td>\n",
       "      <td>0</td>\n",
       "      <td>...</td>\n",
       "      <td>0</td>\n",
       "      <td>0</td>\n",
       "      <td>0</td>\n",
       "      <td>0</td>\n",
       "      <td>0</td>\n",
       "      <td>0</td>\n",
       "      <td>0</td>\n",
       "      <td>0</td>\n",
       "      <td>0</td>\n",
       "      <td>0</td>\n",
       "    </tr>\n",
       "    <tr>\n",
       "      <th>2</th>\n",
       "      <td>0</td>\n",
       "      <td>0</td>\n",
       "      <td>0</td>\n",
       "      <td>0</td>\n",
       "      <td>0</td>\n",
       "      <td>0</td>\n",
       "      <td>0</td>\n",
       "      <td>0</td>\n",
       "      <td>0</td>\n",
       "      <td>0</td>\n",
       "      <td>...</td>\n",
       "      <td>0</td>\n",
       "      <td>0</td>\n",
       "      <td>0</td>\n",
       "      <td>0</td>\n",
       "      <td>0</td>\n",
       "      <td>0</td>\n",
       "      <td>0</td>\n",
       "      <td>0</td>\n",
       "      <td>0</td>\n",
       "      <td>0</td>\n",
       "    </tr>\n",
       "    <tr>\n",
       "      <th>3</th>\n",
       "      <td>0</td>\n",
       "      <td>0</td>\n",
       "      <td>0</td>\n",
       "      <td>0</td>\n",
       "      <td>0</td>\n",
       "      <td>0</td>\n",
       "      <td>0</td>\n",
       "      <td>0</td>\n",
       "      <td>0</td>\n",
       "      <td>0</td>\n",
       "      <td>...</td>\n",
       "      <td>0</td>\n",
       "      <td>0</td>\n",
       "      <td>0</td>\n",
       "      <td>0</td>\n",
       "      <td>0</td>\n",
       "      <td>0</td>\n",
       "      <td>0</td>\n",
       "      <td>0</td>\n",
       "      <td>0</td>\n",
       "      <td>0</td>\n",
       "    </tr>\n",
       "    <tr>\n",
       "      <th>4</th>\n",
       "      <td>0</td>\n",
       "      <td>0</td>\n",
       "      <td>0</td>\n",
       "      <td>0</td>\n",
       "      <td>0</td>\n",
       "      <td>0</td>\n",
       "      <td>0</td>\n",
       "      <td>0</td>\n",
       "      <td>0</td>\n",
       "      <td>0</td>\n",
       "      <td>...</td>\n",
       "      <td>0</td>\n",
       "      <td>0</td>\n",
       "      <td>0</td>\n",
       "      <td>0</td>\n",
       "      <td>0</td>\n",
       "      <td>0</td>\n",
       "      <td>0</td>\n",
       "      <td>0</td>\n",
       "      <td>0</td>\n",
       "      <td>0</td>\n",
       "    </tr>\n",
       "  </tbody>\n",
       "</table>\n",
       "<p>5 rows × 785 columns</p>\n",
       "</div>"
      ],
      "text/plain": [
       "   label  0.1  0.2  0.3  0.4  0.5  0.6  0.7  0.8  0.9  ...  0.639  0.640  \\\n",
       "0      0    0    0    0    0    0    0    0    0    0  ...      0      0   \n",
       "1      0    0    0    0    0    0    0    0    0    0  ...      0      0   \n",
       "2      0    0    0    0    0    0    0    0    0    0  ...      0      0   \n",
       "3      0    0    0    0    0    0    0    0    0    0  ...      0      0   \n",
       "4      0    0    0    0    0    0    0    0    0    0  ...      0      0   \n",
       "\n",
       "   0.641  0.642  0.643  0.644  0.645  0.646  0.647  0.648  \n",
       "0      0      0      0      0      0      0      0      0  \n",
       "1      0      0      0      0      0      0      0      0  \n",
       "2      0      0      0      0      0      0      0      0  \n",
       "3      0      0      0      0      0      0      0      0  \n",
       "4      0      0      0      0      0      0      0      0  \n",
       "\n",
       "[5 rows x 785 columns]"
      ]
     },
     "execution_count": 10,
     "metadata": {},
     "output_type": "execute_result"
    }
   ],
   "source": [
    "letters.head()"
   ]
  },
  {
   "cell_type": "code",
   "execution_count": 11,
   "metadata": {},
   "outputs": [],
   "source": [
    "# Change label to alphabet\n",
    "alphabets_mapper = {0:'A',1:'B',2:'C',3:'D',4:'E',5:'F',6:'G',7:'H',8:'I',9:'J',10:'K',11:'L',12:'M',13:'N',14:'O',15:'P'\n",
    "                    ,16:'Q',17:'R',18:'S',19:'T',20:'U',21:'V',22:'W',23:'X',24:'Y',25:'Z'} \n",
    "letters['label'] = letters['label'].map(alphabets_mapper)"
   ]
  },
  {
   "cell_type": "code",
   "execution_count": 12,
   "metadata": {},
   "outputs": [],
   "source": [
    "X_letters = letters.drop('label',axis = 1)\n",
    "y_letters = letters['label']"
   ]
  },
  {
   "cell_type": "code",
   "execution_count": 13,
   "metadata": {},
   "outputs": [],
   "source": [
    "#convert to numpy array\n",
    "X_letters = X_letters.to_numpy()\n",
    "y_letters = y_letters.to_numpy()"
   ]
  },
  {
   "cell_type": "code",
   "execution_count": 14,
   "metadata": {},
   "outputs": [
    {
     "data": {
      "text/plain": [
       "array([[0, 0, 0, ..., 0, 0, 0],\n",
       "       [0, 0, 0, ..., 0, 0, 0],\n",
       "       [0, 0, 0, ..., 0, 0, 0],\n",
       "       ...,\n",
       "       [0, 0, 0, ..., 0, 0, 0],\n",
       "       [0, 0, 0, ..., 0, 0, 0],\n",
       "       [0, 0, 0, ..., 0, 0, 0]], dtype=int64)"
      ]
     },
     "execution_count": 14,
     "metadata": {},
     "output_type": "execute_result"
    }
   ],
   "source": [
    "X_letters"
   ]
  },
  {
   "cell_type": "code",
   "execution_count": 15,
   "metadata": {},
   "outputs": [
    {
     "data": {
      "text/plain": [
       "(372450, 784)"
      ]
     },
     "execution_count": 15,
     "metadata": {},
     "output_type": "execute_result"
    }
   ],
   "source": [
    "X_letters.shape"
   ]
  },
  {
   "cell_type": "code",
   "execution_count": 16,
   "metadata": {
    "scrolled": false
   },
   "outputs": [
    {
     "data": {
      "image/png": "[encoded data removed]",
      "text/plain": [
       "<Figure size 864x720 with 16 Axes>"
      ]
     },
     "metadata": {
      "needs_background": "light"
     },
     "output_type": "display_data"
    }
   ],
   "source": [
    "plt.figure(figsize = (12,10))\n",
    "row, column = 4, 4\n",
    "\n",
    "for i in range(16): \n",
    "    plt.subplot(column, row, i+1)\n",
    "    some_digit = X_letters[69000+i]\n",
    "    some_digit_image = some_digit.reshape(28,28)\n",
    "    plt.imshow(some_digit_image) #recreates image from pixels\n",
    "plt.show()"
   ]
  },
  {
   "cell_type": "code",
   "execution_count": 17,
   "metadata": {},
   "outputs": [
    {
     "name": "stdout",
     "output_type": "stream",
     "text": [
      "['A' 'A' 'A' ... 'Z' 'Z' 'Z']\n",
      "['5' '0' '4' ... '4' '5' '6']\n"
     ]
    }
   ],
   "source": [
    "print(y_letters)\n",
    "print(y_numbers)"
   ]
  },
  {
   "cell_type": "markdown",
   "metadata": {},
   "source": [
    "### Merge datasets"
   ]
  },
  {
   "cell_type": "code",
   "execution_count": 18,
   "metadata": {},
   "outputs": [],
   "source": [
    "X = np.concatenate((X_letters, X_numbers), axis=0)"
   ]
  },
  {
   "cell_type": "code",
   "execution_count": 19,
   "metadata": {},
   "outputs": [
    {
     "data": {
      "text/plain": [
       "(442450, 784)"
      ]
     },
     "execution_count": 19,
     "metadata": {},
     "output_type": "execute_result"
    }
   ],
   "source": [
    "X.shape"
   ]
  },
  {
   "cell_type": "code",
   "execution_count": 20,
   "metadata": {},
   "outputs": [],
   "source": [
    "y = np.concatenate((y_letters, y_numbers), axis=0)"
   ]
  },
  {
   "cell_type": "code",
   "execution_count": 21,
   "metadata": {},
   "outputs": [
    {
     "data": {
      "text/plain": [
       "(442450,)"
      ]
     },
     "execution_count": 21,
     "metadata": {},
     "output_type": "execute_result"
    }
   ],
   "source": [
    "y.shape"
   ]
  },
  {
   "cell_type": "markdown",
   "metadata": {},
   "source": [
    "### Visualize data"
   ]
  },
  {
   "cell_type": "code",
   "execution_count": 33,
   "metadata": {},
   "outputs": [
    {
     "data": {
      "image/png": "[encoded data removed]",
      "text/plain": [
       "<Figure size 432x288 with 1 Axes>"
      ]
     },
     "metadata": {
      "needs_background": "light"
     },
     "output_type": "display_data"
    }
   ],
   "source": [
    "plt.hist(y_numbers);"
   ]
  },
  {
   "cell_type": "markdown",
   "metadata": {},
   "source": [
    "The amount of records for each number is about the same"
   ]
  },
  {
   "cell_type": "code",
   "execution_count": 34,
   "metadata": {},
   "outputs": [
    {
     "data": {
      "image/png": "[encoded data removed]",
      "text/plain": [
       "<Figure size 432x288 with 1 Axes>"
      ]
     },
     "metadata": {
      "needs_background": "light"
     },
     "output_type": "display_data"
    }
   ],
   "source": [
    "plt.hist(y_letters);"
   ]
  },
  {
   "cell_type": "markdown",
   "metadata": {},
   "source": [
    "There is an uneven distribution for letters. Very few samples of I and J compared to O and P."
   ]
  },
  {
   "cell_type": "markdown",
   "metadata": {},
   "source": [
    "## Prepare data for ML algorithms"
   ]
  },
  {
   "cell_type": "markdown",
   "metadata": {},
   "source": [
    "### Standardize the data"
   ]
  },
  {
   "cell_type": "code",
   "execution_count": 22,
   "metadata": {},
   "outputs": [],
   "source": [
    "from sklearn.preprocessing import StandardScaler\n",
    "\n",
    "scaler = StandardScaler()\n",
    "\n",
    "X_std = scaler.fit_transform(X)"
   ]
  },
  {
   "cell_type": "code",
   "execution_count": 23,
   "metadata": {},
   "outputs": [],
   "source": [
    "y_reshape = y.reshape(-1, 1) #Encoder requires 2d array"
   ]
  },
  {
   "cell_type": "code",
   "execution_count": 24,
   "metadata": {},
   "outputs": [
    {
     "data": {
      "text/plain": [
       "array([[10.],\n",
       "       [10.],\n",
       "       [10.],\n",
       "       [10.],\n",
       "       [10.],\n",
       "       [10.],\n",
       "       [10.],\n",
       "       [10.],\n",
       "       [10.],\n",
       "       [10.]])"
      ]
     },
     "execution_count": 24,
     "metadata": {},
     "output_type": "execute_result"
    }
   ],
   "source": [
    "#Create the label column\n",
    "from sklearn.preprocessing import OrdinalEncoder\n",
    "\n",
    "ordinal_encoder = OrdinalEncoder()\n",
    "\n",
    "y_ord = ordinal_encoder.fit_transform(y_reshape)\n",
    "\n",
    "y_ord[:10]"
   ]
  },
  {
   "cell_type": "code",
   "execution_count": 35,
   "metadata": {},
   "outputs": [
    {
     "data": {
      "text/plain": [
       "dtype('float64')"
      ]
     },
     "execution_count": 35,
     "metadata": {},
     "output_type": "execute_result"
    }
   ],
   "source": [
    "y_ord.dtype # Data type is float. It needs to be integer"
   ]
  },
  {
   "cell_type": "code",
   "execution_count": 36,
   "metadata": {},
   "outputs": [
    {
     "data": {
      "text/plain": [
       "dtype('int32')"
      ]
     },
     "execution_count": 36,
     "metadata": {},
     "output_type": "execute_result"
    }
   ],
   "source": [
    "#Convert to integer\n",
    "\n",
    "y_int = y_ord.astype(int)\n",
    "\n",
    "y_int.dtype"
   ]
  },
  {
   "cell_type": "markdown",
   "metadata": {},
   "source": [
    "## Split data (train/ test)"
   ]
  },
  {
   "cell_type": "code",
   "execution_count": 38,
   "metadata": {},
   "outputs": [],
   "source": [
    "from sklearn.model_selection import train_test_split\n",
    "\n",
    "train_x, test_x, train_y, test_y = train_test_split(X_std, y_int, test_size=0.3)"
   ]
  },
  {
   "cell_type": "markdown",
   "metadata": {},
   "source": [
    "## Multiclass classification using keras"
   ]
  },
  {
   "cell_type": "code",
   "execution_count": 40,
   "metadata": {},
   "outputs": [],
   "source": [
    "from tensorflow import keras"
   ]
  },
  {
   "cell_type": "code",
   "execution_count": 39,
   "metadata": {},
   "outputs": [],
   "source": [
    "from tensorflow.keras.models import Sequential\n",
    "from tensorflow.keras.layers import Dense\n",
    "from tensorflow.keras.layers import Dropout\n",
    "\n",
    "np.random.seed(42) # fix random seed for reproducibility"
   ]
  },
  {
   "cell_type": "code",
   "execution_count": 47,
   "metadata": {},
   "outputs": [],
   "source": [
    "model1 = Sequential()\n",
    "\n",
    "model1.add(Dense(50, input_dim=784, activation='relu'))\n",
    "model1.add(Dense(25, activation='relu'))\n",
    "model1.add(Dense(10, activation='relu'))\n",
    "\n",
    "model1.add(Dense(36, activation='softmax')) #we have 36 categories"
   ]
  },
  {
   "cell_type": "code",
   "execution_count": 48,
   "metadata": {},
   "outputs": [],
   "source": [
    "# Compile model\n",
    "\n",
    "#Optimizer:\n",
    "sgd = keras.optimizers.SGD(lr=0.05)\n",
    "\n",
    "model1.compile(loss='sparse_categorical_crossentropy', optimizer=sgd, metrics=['accuracy'])"
   ]
  },
  {
   "cell_type": "code",
   "execution_count": 49,
   "metadata": {},
   "outputs": [
    {
     "name": "stdout",
     "output_type": "stream",
     "text": [
      "Epoch 1/100\n",
      "3098/3098 [==============================] - 4s 1ms/step - loss: 0.7976 - accuracy: 0.7851\n",
      "Epoch 2/100\n",
      "3098/3098 [==============================] - 3s 1ms/step - loss: 0.3943 - accuracy: 0.8931\n",
      "Epoch 3/100\n",
      "3098/3098 [==============================] - 3s 1ms/step - loss: 0.3388 - accuracy: 0.9075\n",
      "Epoch 4/100\n",
      "3098/3098 [==============================] - 3s 1ms/step - loss: 0.2942 - accuracy: 0.9184\n",
      "Epoch 5/100\n",
      "3098/3098 [==============================] - 3s 1ms/step - loss: 0.2707 - accuracy: 0.9245\n",
      "Epoch 6/100\n",
      "3098/3098 [==============================] - 3s 1ms/step - loss: 0.2518 - accuracy: 0.9286\n",
      "Epoch 7/100\n",
      "3098/3098 [==============================] - 3s 1ms/step - loss: 0.2387 - accuracy: 0.9324\n",
      "Epoch 8/100\n",
      "3098/3098 [==============================] - 3s 1ms/step - loss: 0.2286 - accuracy: 0.9352\n",
      "Epoch 9/100\n",
      "3098/3098 [==============================] - 3s 1ms/step - loss: 0.2218 - accuracy: 0.9370\n",
      "Epoch 10/100\n",
      "3098/3098 [==============================] - 3s 1ms/step - loss: 0.2144 - accuracy: 0.9390\n",
      "Epoch 11/100\n",
      "3098/3098 [==============================] - 4s 1ms/step - loss: 0.2089 - accuracy: 0.9406\n",
      "Epoch 12/100\n",
      "3098/3098 [==============================] - 3s 1ms/step - loss: 0.2020 - accuracy: 0.9425\n",
      "Epoch 13/100\n",
      "3098/3098 [==============================] - 3s 1ms/step - loss: 0.1975 - accuracy: 0.9440\n",
      "Epoch 14/100\n",
      "3098/3098 [==============================] - 3s 1ms/step - loss: 0.1945 - accuracy: 0.9448\n",
      "Epoch 15/100\n",
      "3098/3098 [==============================] - 4s 1ms/step - loss: 0.1901 - accuracy: 0.9460\n",
      "Epoch 16/100\n",
      "3098/3098 [==============================] - 3s 1ms/step - loss: 0.1901 - accuracy: 0.9462\n",
      "Epoch 17/100\n",
      "3098/3098 [==============================] - 3s 1ms/step - loss: 0.1844 - accuracy: 0.9472\n",
      "Epoch 18/100\n",
      "3098/3098 [==============================] - 3s 1ms/step - loss: 0.1813 - accuracy: 0.9483\n",
      "Epoch 19/100\n",
      "3098/3098 [==============================] - 3s 1ms/step - loss: 0.1798 - accuracy: 0.9489\n",
      "Epoch 20/100\n",
      "3098/3098 [==============================] - 3s 1ms/step - loss: 0.1752 - accuracy: 0.9500\n",
      "Epoch 21/100\n",
      "3098/3098 [==============================] - 3s 1ms/step - loss: 0.1727 - accuracy: 0.9508\n",
      "Epoch 22/100\n",
      "3098/3098 [==============================] - 3s 1ms/step - loss: 0.1698 - accuracy: 0.9510\n",
      "Epoch 23/100\n",
      "3098/3098 [==============================] - 4s 1ms/step - loss: 0.1676 - accuracy: 0.9519\n",
      "Epoch 24/100\n",
      "3098/3098 [==============================] - 3s 1ms/step - loss: 0.1656 - accuracy: 0.9525\n",
      "Epoch 25/100\n",
      "3098/3098 [==============================] - 3s 1ms/step - loss: 0.1645 - accuracy: 0.9529\n",
      "Epoch 26/100\n",
      "3098/3098 [==============================] - 3s 1ms/step - loss: 0.1627 - accuracy: 0.9533\n",
      "Epoch 27/100\n",
      "3098/3098 [==============================] - 3s 1ms/step - loss: 0.1616 - accuracy: 0.9535\n",
      "Epoch 28/100\n",
      "3098/3098 [==============================] - 3s 1ms/step - loss: 0.1645 - accuracy: 0.9530\n",
      "Epoch 29/100\n",
      "3098/3098 [==============================] - 3s 1ms/step - loss: 0.1599 - accuracy: 0.9536\n",
      "Epoch 30/100\n",
      "3098/3098 [==============================] - 3s 1ms/step - loss: 0.1586 - accuracy: 0.9543\n",
      "Epoch 31/100\n",
      "3098/3098 [==============================] - 3s 1ms/step - loss: 0.1560 - accuracy: 0.9547\n",
      "Epoch 32/100\n",
      "3098/3098 [==============================] - 3s 1ms/step - loss: 0.1549 - accuracy: 0.9551\n",
      "Epoch 33/100\n",
      "3098/3098 [==============================] - 4s 1ms/step - loss: 0.1529 - accuracy: 0.9557\n",
      "Epoch 34/100\n",
      "3098/3098 [==============================] - 3s 1ms/step - loss: 0.1532 - accuracy: 0.9559\n",
      "Epoch 35/100\n",
      "3098/3098 [==============================] - 3s 1ms/step - loss: 0.1516 - accuracy: 0.9561\n",
      "Epoch 36/100\n",
      "3098/3098 [==============================] - 4s 1ms/step - loss: 0.1608 - accuracy: 0.9540\n",
      "Epoch 37/100\n",
      "3098/3098 [==============================] - 3s 1ms/step - loss: 0.1589 - accuracy: 0.9540\n",
      "Epoch 38/100\n",
      "3098/3098 [==============================] - 3s 1ms/step - loss: 0.1509 - accuracy: 0.9563\n",
      "Epoch 39/100\n",
      "3098/3098 [==============================] - 3s 1ms/step - loss: 0.1489 - accuracy: 0.9570\n",
      "Epoch 40/100\n",
      "3098/3098 [==============================] - 3s 1ms/step - loss: 0.1484 - accuracy: 0.9565\n",
      "Epoch 41/100\n",
      "3098/3098 [==============================] - 3s 1ms/step - loss: 0.1467 - accuracy: 0.9578\n",
      "Epoch 42/100\n",
      "3098/3098 [==============================] - 3s 1ms/step - loss: 0.1454 - accuracy: 0.9577\n",
      "Epoch 43/100\n",
      "3098/3098 [==============================] - 3s 1ms/step - loss: 0.1471 - accuracy: 0.9574\n",
      "Epoch 44/100\n",
      "3098/3098 [==============================] - 3s 1ms/step - loss: 0.1451 - accuracy: 0.9577\n",
      "Epoch 45/100\n",
      "3098/3098 [==============================] - 3s 1ms/step - loss: 0.1443 - accuracy: 0.9580\n",
      "Epoch 46/100\n",
      "3098/3098 [==============================] - 3s 1ms/step - loss: 0.1429 - accuracy: 0.9582\n",
      "Epoch 47/100\n",
      "3098/3098 [==============================] - 3s 1ms/step - loss: 0.1422 - accuracy: 0.9584\n",
      "Epoch 48/100\n",
      "3098/3098 [==============================] - 3s 1ms/step - loss: 0.1436 - accuracy: 0.9585\n",
      "Epoch 49/100\n",
      "3098/3098 [==============================] - 3s 1ms/step - loss: 0.1407 - accuracy: 0.9590\n",
      "Epoch 50/100\n",
      "3098/3098 [==============================] - 3s 1ms/step - loss: 0.1400 - accuracy: 0.9591\n",
      "Epoch 51/100\n",
      "3098/3098 [==============================] - 4s 1ms/step - loss: 0.1404 - accuracy: 0.9588\n",
      "Epoch 52/100\n",
      "3098/3098 [==============================] - 3s 1ms/step - loss: 0.1393 - accuracy: 0.9593\n",
      "Epoch 53/100\n",
      "3098/3098 [==============================] - 3s 1ms/step - loss: 0.1384 - accuracy: 0.9593\n",
      "Epoch 54/100\n",
      "3098/3098 [==============================] - 3s 1ms/step - loss: 0.1385 - accuracy: 0.9596\n",
      "Epoch 55/100\n",
      "3098/3098 [==============================] - 3s 1ms/step - loss: 0.1387 - accuracy: 0.9594\n",
      "Epoch 56/100\n",
      "3098/3098 [==============================] - 3s 1ms/step - loss: 0.1364 - accuracy: 0.9599\n",
      "Epoch 57/100\n",
      "3098/3098 [==============================] - 3s 1ms/step - loss: 0.1364 - accuracy: 0.9605\n",
      "Epoch 58/100\n",
      "3098/3098 [==============================] - 3s 1ms/step - loss: 0.1367 - accuracy: 0.9602\n",
      "Epoch 59/100\n",
      "3098/3098 [==============================] - 3s 1ms/step - loss: 0.1351 - accuracy: 0.9603\n",
      "Epoch 60/100\n",
      "3098/3098 [==============================] - 3s 1ms/step - loss: 0.1349 - accuracy: 0.9602\n",
      "Epoch 61/100\n",
      "3098/3098 [==============================] - 3s 1ms/step - loss: 0.1351 - accuracy: 0.9605\n",
      "Epoch 62/100\n",
      "3098/3098 [==============================] - 3s 1ms/step - loss: 0.1350 - accuracy: 0.9606\n",
      "Epoch 63/100\n",
      "3098/3098 [==============================] - 3s 1ms/step - loss: 0.1336 - accuracy: 0.9608\n",
      "Epoch 64/100\n",
      "3098/3098 [==============================] - 4s 1ms/step - loss: 0.1342 - accuracy: 0.9610\n",
      "Epoch 65/100\n",
      "3098/3098 [==============================] - 4s 1ms/step - loss: 0.1326 - accuracy: 0.9613\n",
      "Epoch 66/100\n",
      "3098/3098 [==============================] - 3s 1ms/step - loss: 0.1326 - accuracy: 0.9610\n",
      "Epoch 67/100\n",
      "3098/3098 [==============================] - 3s 1ms/step - loss: 0.1330 - accuracy: 0.9610\n",
      "Epoch 68/100\n",
      "3098/3098 [==============================] - 3s 1ms/step - loss: 0.1333 - accuracy: 0.9610\n",
      "Epoch 69/100\n",
      "3098/3098 [==============================] - 3s 1ms/step - loss: 0.1315 - accuracy: 0.9612\n",
      "Epoch 70/100\n",
      "3098/3098 [==============================] - 4s 1ms/step - loss: 0.1301 - accuracy: 0.9618\n",
      "Epoch 71/100\n",
      "3098/3098 [==============================] - 3s 1ms/step - loss: 0.1309 - accuracy: 0.9611\n",
      "Epoch 72/100\n",
      "3098/3098 [==============================] - 4s 1ms/step - loss: 0.1300 - accuracy: 0.9619\n",
      "Epoch 73/100\n",
      "3098/3098 [==============================] - 3s 1ms/step - loss: 0.1303 - accuracy: 0.9616\n",
      "Epoch 74/100\n",
      "3098/3098 [==============================] - 4s 1ms/step - loss: 0.1294 - accuracy: 0.9620\n",
      "Epoch 75/100\n",
      "3098/3098 [==============================] - 3s 1ms/step - loss: 0.1289 - accuracy: 0.9621\n",
      "Epoch 76/100\n",
      "3098/3098 [==============================] - 4s 1ms/step - loss: 0.1292 - accuracy: 0.9618\n",
      "Epoch 77/100\n",
      "3098/3098 [==============================] - 5s 2ms/step - loss: 0.1284 - accuracy: 0.9623\n",
      "Epoch 78/100\n",
      "3098/3098 [==============================] - 4s 1ms/step - loss: 0.1292 - accuracy: 0.9619\n",
      "Epoch 79/100\n"
     ]
    },
    {
     "name": "stdout",
     "output_type": "stream",
     "text": [
      "3098/3098 [==============================] - 6s 2ms/step - loss: 0.1281 - accuracy: 0.9627\n",
      "Epoch 80/100\n",
      "3098/3098 [==============================] - 5s 2ms/step - loss: 0.1289 - accuracy: 0.9623\n",
      "Epoch 81/100\n",
      "3098/3098 [==============================] - 4s 1ms/step - loss: 0.1274 - accuracy: 0.9623\n",
      "Epoch 82/100\n",
      "3098/3098 [==============================] - 3s 1ms/step - loss: 0.1282 - accuracy: 0.9626\n",
      "Epoch 83/100\n",
      "3098/3098 [==============================] - 3s 1ms/step - loss: 0.1275 - accuracy: 0.9626\n",
      "Epoch 84/100\n",
      "3098/3098 [==============================] - 4s 1ms/step - loss: 0.1279 - accuracy: 0.9624\n",
      "Epoch 85/100\n",
      "3098/3098 [==============================] - 3s 1ms/step - loss: 0.1326 - accuracy: 0.9613\n",
      "Epoch 86/100\n",
      "3098/3098 [==============================] - 3s 1ms/step - loss: 0.1413 - accuracy: 0.9598\n",
      "Epoch 87/100\n",
      "3098/3098 [==============================] - 3s 1ms/step - loss: 0.1334 - accuracy: 0.9610\n",
      "Epoch 88/100\n",
      "3098/3098 [==============================] - 4s 1ms/step - loss: 0.1285 - accuracy: 0.9623\n",
      "Epoch 89/100\n",
      "3098/3098 [==============================] - 3s 1ms/step - loss: 0.1278 - accuracy: 0.9624\n",
      "Epoch 90/100\n",
      "3098/3098 [==============================] - 4s 1ms/step - loss: 0.1272 - accuracy: 0.9624\n",
      "Epoch 91/100\n",
      "3098/3098 [==============================] - 3s 1ms/step - loss: 0.1258 - accuracy: 0.9631\n",
      "Epoch 92/100\n",
      "3098/3098 [==============================] - 3s 1ms/step - loss: 0.1254 - accuracy: 0.9633\n",
      "Epoch 93/100\n",
      "3098/3098 [==============================] - 3s 1ms/step - loss: 0.1373 - accuracy: 0.9608\n",
      "Epoch 94/100\n",
      "3098/3098 [==============================] - 4s 1ms/step - loss: 0.1263 - accuracy: 0.9631\n",
      "Epoch 95/100\n",
      "3098/3098 [==============================] - 3s 1ms/step - loss: 0.1257 - accuracy: 0.9633\n",
      "Epoch 96/100\n",
      "3098/3098 [==============================] - 4s 1ms/step - loss: 0.1245 - accuracy: 0.9633\n",
      "Epoch 97/100\n",
      "3098/3098 [==============================] - 4s 1ms/step - loss: 0.1247 - accuracy: 0.9630\n",
      "Epoch 98/100\n",
      "3098/3098 [==============================] - 3s 1ms/step - loss: 0.1243 - accuracy: 0.9633\n",
      "Epoch 99/100\n",
      "3098/3098 [==============================] - 3s 1ms/step - loss: 0.1235 - accuracy: 0.9635\n",
      "Epoch 100/100\n",
      "3098/3098 [==============================] - 4s 1ms/step - loss: 0.1240 - accuracy: 0.9631\n"
     ]
    },
    {
     "data": {
      "text/plain": [
       "<tensorflow.python.keras.callbacks.History at 0x1f0c2852860>"
      ]
     },
     "execution_count": 49,
     "metadata": {},
     "output_type": "execute_result"
    }
   ],
   "source": [
    "# Fit the model\n",
    "\n",
    "model1.fit(train_x, train_y, epochs=100, batch_size=100)"
   ]
  },
  {
   "cell_type": "code",
   "execution_count": 52,
   "metadata": {},
   "outputs": [
    {
     "name": "stdout",
     "output_type": "stream",
     "text": [
      "4148/4148 [==============================] - 3s 764us/step - loss: 0.2989 - accuracy: 0.9285\n",
      "\n",
      "accuracy: 92.85%\n"
     ]
    }
   ],
   "source": [
    "# evaluate the model\n",
    "\n",
    "scores = model1.evaluate(test_x, test_y)\n",
    "print(\"\\n%s: %.2f%%\" % (model1.metrics_names[1], scores[1]*100))"
   ]
  },
  {
   "cell_type": "code",
   "execution_count": null,
   "metadata": {},
   "outputs": [],
   "source": []
  }
 ],
 "metadata": {
  "kernelspec": {
   "display_name": "Python 3",
   "language": "python",
   "name": "python3"
  },
  "language_info": {
   "codemirror_mode": {
    "name": "ipython",
    "version": 3
   },
   "file_extension": ".py",
   "mimetype": "text/x-python",
   "name": "python",
   "nbconvert_exporter": "python",
   "pygments_lexer": "ipython3",
   "version": "3.7.1"
  }
 },
 "nbformat": 4,
 "nbformat_minor": 4
}
